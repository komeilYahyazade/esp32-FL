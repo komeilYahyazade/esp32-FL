{
 "cells": [
  {
   "cell_type": "code",
   "execution_count": 2,
   "metadata": {},
   "outputs": [],
   "source": [
    "import numpy as np\n",
    "import pandas as pd\n",
    "from sklearn.datasets import load_iris\n",
    "from sklearn.model_selection import train_test_split"
   ]
  },
  {
   "cell_type": "code",
   "execution_count": 3,
   "metadata": {},
   "outputs": [
    {
     "data": {
      "text/plain": [
       "((120, 4), (30, 4), (120,), (30,))"
      ]
     },
     "execution_count": 3,
     "metadata": {},
     "output_type": "execute_result"
    }
   ],
   "source": [
    "# load dataset\n",
    "X, y = load_iris(return_X_y=True)\n",
    "\n",
    "# split train/test\n",
    "X_train, X_test, y_train, y_test = train_test_split(X, y, test_size=0.2, random_state=1403)\n",
    "\n",
    "X_train.shape, X_test.shape, y_train.shape, y_test.shape"
   ]
  },
  {
   "cell_type": "code",
   "execution_count": 4,
   "metadata": {},
   "outputs": [],
   "source": [
    "# save evaluation set for server\n",
    "ones = np.eye(3, dtype=int)\n",
    "\n",
    "test_pd = pd.DataFrame(np.hstack((X_test, ones[y_test])))\n",
    "test_pd.to_csv('./evaluation_set.csv', header=None)"
   ]
  },
  {
   "cell_type": "code",
   "execution_count": 5,
   "metadata": {},
   "outputs": [],
   "source": [
    "# functions for splitting iid & non-iid\n",
    "\n",
    "def iid_sampling(X, y, num_client):\n",
    "    np.random.seed(1403)\n",
    "    num_items = int(len(X)/num_client)\n",
    "    dict_users, all_idxs = {}, [i for i in range(len(X))]\n",
    "    for i in range(num_client):\n",
    "        dict_users[i] = np.random.choice(all_idxs, num_items, replace=False)\n",
    "        all_idxs = list(set(all_idxs) - set(dict_users[i]))\n",
    "    return dict_users\n",
    "\n",
    "\n",
    "def non_iid_sampling(X, y, num_client, num_shards, num_imgs, shards_per_client):\n",
    "    assert (num_shards * num_imgs) == len(X)\n",
    "    assert shards_per_client * num_client == num_shards\n",
    "    np.random.seed(2024)\n",
    "\n",
    "    # num_shards, num_imgs = 200, 300\n",
    "    idx_shard = [i for i in range(num_shards)]\n",
    "    dict_users = {i: np.array([], dtype=int) for i in range(num_client)}\n",
    "    idxs = np.arange(num_shards*num_imgs)\n",
    "\n",
    "    # sort labels\n",
    "    idxs_labels = np.vstack((idxs, y))\n",
    "    idxs_labels = idxs_labels[:, idxs_labels[1, :].argsort()]\n",
    "    idxs = idxs_labels[0, :]\n",
    "\n",
    "    # divide and assign 2 shards/client\n",
    "    for i in range(num_client):\n",
    "        rand_set = set(np.random.choice(idx_shard, shards_per_client, replace=False))\n",
    "        idx_shard = list(set(idx_shard) - rand_set)\n",
    "        for rand in rand_set:\n",
    "            dict_users[i] = np.concatenate((dict_users[i], idxs[rand*num_imgs:(rand+1)*num_imgs]), axis=0)\n",
    "    return dict_users\n"
   ]
  },
  {
   "cell_type": "code",
   "execution_count": 6,
   "metadata": {},
   "outputs": [],
   "source": [
    "def save_clients_data(X, y, user_idxs, name):\n",
    "    base_path = \".\"\n",
    "    for user in user_idxs.keys():\n",
    "        X_user = X[user_idxs[user]]\n",
    "        y_user = ones[y[user_idxs[user]]]\n",
    "        pd_user = pd.DataFrame(np.hstack((X_user, y_user)))\n",
    "        pd_user.to_csv(f'{base_path}/client_{name}_{user}.csv', header=None)"
   ]
  },
  {
   "cell_type": "code",
   "execution_count": 6,
   "metadata": {},
   "outputs": [],
   "source": [
    "# iid sampling\n",
    "num_clients = 1\n",
    "\n",
    "iid_user_idxs = iid_sampling(X_train, y_train, num_clients)\n",
    "save_clients_data(X_train, y_train, iid_user_idxs, 'iid-single')"
   ]
  },
  {
   "cell_type": "code",
   "execution_count": 7,
   "metadata": {},
   "outputs": [],
   "source": [
    "# non-iid sampling\n",
    "num_clients = 3\n",
    "num_shards, num_imgs = 12, 10       # num_shards*num_imgs = 120\n",
    "shards_per_client = 4\n",
    "\n",
    "non_iid_user_idxs = non_iid_sampling(X_train, y_train, num_clients, num_shards, num_imgs, shards_per_client)\n",
    "save_clients_data(X_train, y_train, non_iid_user_idxs, 'non-iid')"
   ]
  },
  {
   "cell_type": "code",
   "execution_count": null,
   "metadata": {},
   "outputs": [],
   "source": []
  }
 ],
 "metadata": {
  "kernelspec": {
   "display_name": "Python 3",
   "language": "python",
   "name": "python3"
  },
  "language_info": {
   "codemirror_mode": {
    "name": "ipython",
    "version": 3
   },
   "file_extension": ".py",
   "mimetype": "text/x-python",
   "name": "python",
   "nbconvert_exporter": "python",
   "pygments_lexer": "ipython3",
   "version": "3.9.4"
  }
 },
 "nbformat": 4,
 "nbformat_minor": 2
}
